{
 "cells": [
  {
   "cell_type": "markdown",
   "metadata": {},
   "source": [
    "# assignment-1"
   ]
  },
  {
   "cell_type": "code",
   "execution_count": 25,
   "metadata": {},
   "outputs": [],
   "source": [
    "def sampleDecorator(func):\n",
    "    def addingFunction():\n",
    "        # some new statments or flow control\n",
    "        print(\"hey i have added some text in this function dont forget.\")\n",
    "        # calling the function\n",
    "        func()\n",
    "\n",
    "    return addingFunction\n",
    "\n",
    "\n",
    "@sampleDecorator\n",
    "def actualFunction():\n",
    "    print(\"this is a actual function .\")\n",
    "\n"
   ]
  },
  {
   "cell_type": "code",
   "execution_count": 26,
   "metadata": {},
   "outputs": [
    {
     "name": "stdout",
     "output_type": "stream",
     "text": [
      "hey i have added some text in this function dont forget.\n",
      "this is a actual function .\n"
     ]
    }
   ],
   "source": [
    "actualFunction()"
   ]
  },
  {
   "cell_type": "markdown",
   "metadata": {},
   "source": [
    "# assignment2"
   ]
  },
  {
   "cell_type": "code",
   "execution_count": 44,
   "metadata": {},
   "outputs": [
    {
     "name": "stdout",
     "output_type": "stream",
     "text": [
      "Overwriting homework.py\n"
     ]
    }
   ],
   "source": [
    "%%writefile homework.py\n",
    "home=open(homework.py)\n",
    "print(home.read())"
   ]
  },
  {
   "cell_type": "code",
   "execution_count": 45,
   "metadata": {},
   "outputs": [
    {
     "name": "stdout",
     "output_type": "stream",
     "text": [
      "The file given is existed in read only format\n",
      "Terminating process!\n"
     ]
    }
   ],
   "source": [
    "try:\n",
    "    file_example = open (\"homework.py\")\n",
    "    print(\"The file given is existed in read only format\")\n",
    "except IOError:\n",
    "    print(\"An error was found. Either path is incorrect or file doesn't exist!\")\n",
    "\n",
    "finally:\n",
    "    print(\"Terminating process!\")"
   ]
  },
  {
   "cell_type": "code",
   "execution_count": null,
   "metadata": {},
   "outputs": [],
   "source": []
  },
  {
   "cell_type": "code",
   "execution_count": null,
   "metadata": {},
   "outputs": [],
   "source": []
  },
  {
   "cell_type": "code",
   "execution_count": null,
   "metadata": {},
   "outputs": [],
   "source": []
  }
 ],
 "metadata": {
  "kernelspec": {
   "display_name": "Python 3",
   "language": "python",
   "name": "python3"
  },
  "language_info": {
   "codemirror_mode": {
    "name": "ipython",
    "version": 3
   },
   "file_extension": ".py",
   "mimetype": "text/x-python",
   "name": "python",
   "nbconvert_exporter": "python",
   "pygments_lexer": "ipython3",
   "version": "3.8.3"
  }
 },
 "nbformat": 4,
 "nbformat_minor": 4
}
